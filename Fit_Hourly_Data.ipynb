{
  "nbformat": 4,
  "nbformat_minor": 0,
  "metadata": {
    "colab": {
      "provenance": [],
      "include_colab_link": true
    },
    "kernelspec": {
      "name": "python3",
      "display_name": "Python 3"
    },
    "language_info": {
      "name": "python"
    }
  },
  "cells": [
    {
      "cell_type": "markdown",
      "metadata": {
        "id": "view-in-github",
        "colab_type": "text"
      },
      "source": [
        "<a href=\"https://colab.research.google.com/github/anshkaggarwal22/VirtualPowerPlantProject/blob/main/Fit_Hourly_Data.ipynb\" target=\"_parent\"><img src=\"https://colab.research.google.com/assets/colab-badge.svg\" alt=\"Open In Colab\"/></a>"
      ]
    },
    {
      "cell_type": "markdown",
      "source": [
        "#Read BEopt Files and fit with Demand/Usage\n"
      ],
      "metadata": {
        "id": "qBcejkmkDqHQ"
      }
    },
    {
      "cell_type": "code",
      "execution_count": null,
      "metadata": {
        "id": "yWMRvnXADoJO"
      },
      "outputs": [],
      "source": [
        "# libraries used to deal with dates in the plot\n",
        "import matplotlib.pyplot as plt\n",
        "import pandas as pd\n",
        "import numpy as np\n",
        "import matplotlib.dates as mdates\n",
        "import datetime as dt\n",
        "import os"
      ]
    },
    {
      "cell_type": "code",
      "source": [
        "from google.colab import drive\n",
        "WORK_DRIVE = '/content/drive'\n",
        "drive.mount(WORK_DRIVE)"
      ],
      "metadata": {
        "colab": {
          "base_uri": "https://localhost:8080/"
        },
        "id": "sfXOglXuJf5R",
        "outputId": "69beb4ae-72c0-4764-80ba-67ba9a9cba95"
      },
      "execution_count": null,
      "outputs": [
        {
          "output_type": "stream",
          "name": "stdout",
          "text": [
            "Mounted at /content/drive\n"
          ]
        }
      ]
    },
    {
      "cell_type": "code",
      "source": [
        "# Creating folder/file paths\n",
        "WORK_AREA = WORK_DRIVE + '/MyDrive/Ansh Aggarwal/Models/Unit Commitment and Economic Dispatch'\n",
        "os.chdir(WORK_AREA)\n",
        "\n",
        "beopt_path = './BEopt/'\n",
        "inputs_path = './inputs/'\n",
        "outputs_path = './outputs/'\n",
        "data_filepath = beopt_path + 'Normalize_BEopt_and_Demand.csv'"
      ],
      "metadata": {
        "id": "n6coaCX7JkjU"
      },
      "execution_count": null,
      "outputs": []
    },
    {
      "cell_type": "markdown",
      "source": [
        "Find Daily Total Energy Based on 5 BEopt Sites"
      ],
      "metadata": {
        "id": "TMlh_i5HeJ0o"
      }
    },
    {
      "cell_type": "code",
      "source": [
        "df_daily_total_energy = pd.read_csv(beopt_path + 'Hourly_Total_E_kWH_5_Sites_73_F.csv')\n",
        "\n",
        "df_daily_total_energy.info()\n",
        "df_daily_total_energy.head()"
      ],
      "metadata": {
        "id": "1q0P7TGFOBXP"
      },
      "execution_count": null,
      "outputs": []
    },
    {
      "cell_type": "code",
      "source": [
        "df_daily_total_energy['Hours'] = df_daily_total_energy['Whole Hours since 00:00 Jan 1']\n",
        "\n",
        "df_daily_total_energy['Date'] = pd.to_datetime(df_daily_total_energy['Hours since 00:00 Jan 1'], unit='h', origin=pd.Timestamp('01/01/2019')).dt.floor('D')\n",
        "\n",
        "daily_energy = df_daily_total_energy.groupby(['Date', 'Hours']).agg({'Total (E)': 'sum'})\n",
        "\n",
        "daily_energy = df_daily_total_energy.groupby('Date')['Total (E)'].sum()\n",
        "\n",
        "df_india_data = {'Date': [], 'Total Energy(kWH)':[]}\n",
        "\n",
        "for date, kw in daily_energy.items():\n",
        "    df_india_data['Date'].append(date)\n",
        "    df_india_data['Total Energy(kWH)'].append(kw)\n",
        "    print(f'{date} : Total Energy(kWH): {kw}')\n",
        "\n",
        "#df_india_data.to_csv(beopt_path + 'placeholder.csv', index=False)"
      ],
      "metadata": {
        "id": "3QPS1RaBbuFo"
      },
      "execution_count": null,
      "outputs": []
    },
    {
      "cell_type": "markdown",
      "source": [
        "Find Daily Demand for Northern Region"
      ],
      "metadata": {
        "id": "hAO9KPETivCY"
      }
    },
    {
      "cell_type": "code",
      "source": [
        "df_daily_demand = pd.read_csv(data_filepath)\n",
        "\n",
        "df_daily_demand.info()\n",
        "df_daily_demand.head()"
      ],
      "metadata": {
        "id": "zaq1BtrcHHyv"
      },
      "execution_count": null,
      "outputs": []
    },
    {
      "cell_type": "code",
      "source": [
        "mask_r = df_daily_demand.Regions.isin(['NR'])\n",
        "df_r = df_daily_demand[mask_r].copy()\n",
        "\n",
        "df_r['Daily_Demand_Date'] = df_r['Daily_Demand_Date'].str.split(' ').str[0]\n",
        "df_r['Daily_Demand_Date'] = pd.to_datetime(df_r['Daily_Demand_Date'], format = '%d/%m/%Y', errors='coerce')\n",
        "\n",
        "df_daily_usage = df_r.groupby('Daily_Demand_Date')['Usage'].sum()\n",
        "\n",
        "df_india_demand = {'Daily_Demand_Date': [], 'Usage(MW)':[]}\n",
        "\n",
        "for date, usage in df_daily_usage.items():\n",
        "    df_india_demand['Daily_Demand_Date'].append(date)\n",
        "    df_india_demand['Usage(MW)'].append(usage)\n",
        "\n",
        "#df_india_demand.to_csv(beopt_path + 'placeholder.csv', index=False)"
      ],
      "metadata": {
        "id": "Smm4DoQ9jJic"
      },
      "execution_count": null,
      "outputs": []
    },
    {
      "cell_type": "markdown",
      "source": [
        "Code to Find Normalization Factors and Hourly Demand\n",
        "\n"
      ],
      "metadata": {
        "id": "YK1lINbn50iC"
      }
    },
    {
      "cell_type": "code",
      "source": [
        "df_hourly_demand = pd.read_csv(data_filepath)\n",
        "\n",
        "df_hourly_demand.info()\n",
        "df_hourly_demand.head()"
      ],
      "metadata": {
        "id": "PKbUZr7j6CHw"
      },
      "execution_count": null,
      "outputs": []
    },
    {
      "cell_type": "code",
      "source": [
        "#NORMALIZATION FACTORS\n",
        "\n",
        "# Create a new list to store the normalization factors\n",
        "normalization_factors = []\n",
        "\n",
        "# Calculate the normalization factors for each set of 24 rows\n",
        "for i in range(len(df_hourly_demand)):\n",
        "  day_energy = df_hourly_demand['Total Energy(kWh) 70F'][i // 24]  #Reads which index(day) energy needs to be read based on i(hours) value\n",
        "  norm_factor = df_hourly_demand['Total E 70F (kWh)'][i] /day_energy #Divides hourly by total day energy\n",
        "  normalization_factors.append(norm_factor)   #Adds to list\n",
        "\n",
        "\n",
        "df_daily_normalization = pd.DataFrame({'Daily_Energy_Date': df_hourly_demand['Daily_Energy_Date'],'Normalization Factor': normalization_factors})\n",
        "\n",
        "print(df_daily_normalization)\n",
        "\n",
        "#df_daily_normalization.to_csv(beopt_path + 'placeholder.csv', index=False)\n",
        "\n",
        "#-------------------------------------------------------------------------------------------------------------------------------------------\n",
        "\n",
        "#HOURLY DEMAND\n",
        "\n",
        "# Creates a new list for the hourly demand\n",
        "hourly_demand = []\n",
        "\n",
        "# Calculate the demand factors for each set of 24 hours\n",
        "for i in range(len(df_hourly_demand)):\n",
        "  day_demand = df_hourly_demand['Usage(MW)'][i//24]  #Reads which index(Day) demand needs to be read based on i(hours) value\n",
        "  demand = df_hourly_demand['Normalization Factor 70F'][i]*day_demand   #Multiplies normalization factor by day demand to find/fit hourly demand\n",
        "  hourly_demand.append(demand)   #Adds to list\n",
        "\n",
        "df_demand = pd.DataFrame({'Daily_Energy_Date': df_hourly_demand['Daily_Energy_Date'],'Demand': hourly_demand})\n",
        "\n",
        "print(df_demand)\n",
        "\n",
        "#df_demand.to_csv(beopt_path + 'placeholder.csv', index=False)\n"
      ],
      "metadata": {
        "id": "3iy0TVHE1UIP"
      },
      "execution_count": null,
      "outputs": []
    },
    {
      "cell_type": "markdown",
      "source": [
        "Create graphs for the Hourly Demand\n",
        "\n"
      ],
      "metadata": {
        "id": "fctRo2VTgz0p"
      }
    },
    {
      "cell_type": "code",
      "source": [
        "df_hourly_demand = pd.read_csv(data_filepath)\n",
        "\n",
        "df_hourly_demand.info()\n",
        "df_hourly_demand.head()"
      ],
      "metadata": {
        "id": "EedaGQbVkFOV"
      },
      "execution_count": null,
      "outputs": []
    },
    {
      "cell_type": "code",
      "source": [
        "f = plt.figure()\n",
        "f.set_figwidth(30)\n",
        "f.set_figheight(8)\n",
        "\n",
        "plt.title('Northern India: Hourly Demand May 30', size=18)\n",
        "plt.xlabel('DateTime', size =14)\n",
        "plt.ylabel('Demand (GW)', size =14)\n",
        "\n",
        "df_hourly_demand['Hourly_Demand_Date'] = pd.to_datetime(df_hourly_demand['Hourly_Demand_Date'])\n",
        "\n",
        "day = df_hourly_demand[df_hourly_demand['Hourly_Demand_Date'].dt.strftime('%m/%d/%Y') == '05/30/2019']\n",
        "\n",
        "# Format plot with 1 hour intervals\n",
        "plt.gca().xaxis.set_major_formatter(mdates.DateFormatter('%H:%M'))\n",
        "plt.gca().xaxis.set_major_locator(mdates.HourLocator(interval=1))\n",
        "\n",
        "plt.plot(day['Hourly_Demand_Date'], day['Demand_76_F_MW'].values, label='Cooling Point: 76F', color='green')\n",
        "plt.plot(day['Hourly_Demand_Date'], day['Demand_73_F_MW'].values, label='Cooling Point: 73F', color='blue')\n",
        "plt.plot(day['Hourly_Demand_Date'], day['Demand_70_F_MW'].values, label='Cooling Point: 70F', color='red')\n",
        "plt.gcf().autofmt_xdate() #GCF means 'get the current figure'\n",
        "\n",
        "plt.legend()\n",
        "\n",
        "# Makes graph from 0:00 to 23:00\n",
        "plt.xlim(pd.Timestamp('05/30/2019 0:00'), pd.Timestamp('05/30/2019 23:00'))\n",
        "\n",
        "plt.savefig(outputs_path + '/Hourly Demands/' + 'May30_Hourly_Demands.png')\n",
        "plt.show()"
      ],
      "metadata": {
        "id": "37xRqCbTgx_P"
      },
      "execution_count": null,
      "outputs": []
    }
  ]
}